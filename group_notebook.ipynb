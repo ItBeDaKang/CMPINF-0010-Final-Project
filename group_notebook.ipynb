{
 "cells": [
  {
   "cell_type": "markdown",
   "id": "1fe7785f",
   "metadata": {},
   "source": [
    "# CMPINF 0010 Final Project Group Notebook"
   ]
  },
  {
   "cell_type": "markdown",
   "id": "d69f7ae0",
   "metadata": {},
   "source": [
    "## Introduction\n",
    "\n"
   ]
  },
  {
   "cell_type": "markdown",
   "id": "145b4152",
   "metadata": {},
   "source": [
    "## The Metric\n",
    "\n"
   ]
  },
  {
   "cell_type": "markdown",
   "id": "07a45f65",
   "metadata": {},
   "source": [
    "## The Best Neighborhood"
   ]
  },
  {
   "cell_type": "markdown",
   "id": "5de48b94",
   "metadata": {},
   "source": [
    "### Submetric 1 - "
   ]
  },
  {
   "cell_type": "markdown",
   "id": "b69c1cfa",
   "metadata": {},
   "source": [
    "### Submetric 2 - Proportion with Diploma"
   ]
  },
  {
   "cell_type": "markdown",
   "id": "8b0bbf16",
   "metadata": {},
   "source": [
    "### Submetric 3 - "
   ]
  },
  {
   "cell_type": "markdown",
   "id": "ab0520e5",
   "metadata": {},
   "source": [
    "### Applying the Metric"
   ]
  },
  {
   "cell_type": "markdown",
   "id": "4ba9bf1f",
   "metadata": {},
   "source": [
    "## Conclusions"
   ]
  },
  {
   "cell_type": "code",
   "execution_count": null,
   "id": "c5ce3db0",
   "metadata": {},
   "outputs": [],
   "source": []
  }
 ],
 "metadata": {
  "kernelspec": {
   "display_name": "Python 3 (ipykernel)",
   "language": "python",
   "name": "python3"
  },
  "language_info": {
   "codemirror_mode": {
    "name": "ipython",
    "version": 3
   },
   "file_extension": ".py",
   "mimetype": "text/x-python",
   "name": "python",
   "nbconvert_exporter": "python",
   "pygments_lexer": "ipython3",
   "version": "3.9.12"
  }
 },
 "nbformat": 4,
 "nbformat_minor": 5
}
